{
  "nbformat": 4,
  "nbformat_minor": 0,
  "metadata": {
    "colab": {
      "name": "week_one.ipynb",
      "provenance": [],
      "collapsed_sections": [],
      "authorship_tag": "ABX9TyPma1m07a0+ufl9itbyJKxj",
      "include_colab_link": true
    },
    "kernelspec": {
      "name": "python3",
      "display_name": "Python 3"
    }
  },
  "cells": [
    {
      "cell_type": "markdown",
      "metadata": {
        "id": "view-in-github",
        "colab_type": "text"
      },
      "source": [
        "<a href=\"https://colab.research.google.com/github/Xender202/python_bootcamp/blob/main/week_one.ipynb\" target=\"_parent\"><img src=\"https://colab.research.google.com/assets/colab-badge.svg\" alt=\"Open In Colab\"/></a>"
      ]
    },
    {
      "cell_type": "markdown",
      "metadata": {
        "id": "jzKnoiEt7JcV"
      },
      "source": [
        ""
      ]
    },
    {
      "cell_type": "code",
      "metadata": {
        "colab": {
          "base_uri": "https://localhost:8080/"
        },
        "id": "0EiBQdlS7Cgk",
        "outputId": "aea9910a-4029-4cec-e830-9a7a4e67684d"
      },
      "source": [
        "import requests\n",
        "\n",
        "response = requests.get(\"https://uselessfacts.jsph.pl/random.json?language=en\")\n",
        "\n",
        "print(response.text)"
      ],
      "execution_count": null,
      "outputs": [
        {
          "output_type": "stream",
          "text": [
            "{\"id\":\"0a9ff5a7-7848-420f-a751-61c66459b1bc\",\"text\":\"101 Dalmatians, Peter Pan, Lady and the Tramp, and Mulan are the only Disney cartoons where both parents are present and don`t die throughout the movie.\",\"source\":\"djtech.net\",\"source_url\":\"http:\\/\\/www.djtech.net\\/humor\\/useless_facts.htm\",\"language\":\"en\",\"permalink\":\"https:\\/\\/uselessfacts.jsph.pl\\/0a9ff5a7-7848-420f-a751-61c66459b1bc\"}\n"
          ],
          "name": "stdout"
        }
      ]
    },
    {
      "cell_type": "code",
      "metadata": {
        "colab": {
          "base_uri": "https://localhost:8080/"
        },
        "id": "z8tLtPGGGste",
        "outputId": "d17041ae-9eb4-45be-c3da-00b7c15548a5"
      },
      "source": [
        "query_parameters={\n",
        "    'language':'en'\n",
        "}\n",
        "\n",
        "response = requests.get(\"https://uselessfacts.jsph.pl/random.json\", params=query_parameters)\n",
        "\n",
        "print(response.json().get(\"text\"))"
      ],
      "execution_count": null,
      "outputs": [
        {
          "output_type": "stream",
          "text": [
            "Jupiter is bigger than all the other planets in our solar system combined.\n"
          ],
          "name": "stdout"
        }
      ]
    },
    {
      "cell_type": "markdown",
      "metadata": {
        "id": "gMWpM1gzd145"
      },
      "source": [
        "#Hello Everyone\n",
        "My name is **Wyatt**"
      ]
    },
    {
      "cell_type": "code",
      "metadata": {
        "colab": {
          "base_uri": "https://localhost:8080/"
        },
        "id": "KG-4KJ2Zgw48",
        "outputId": "92c30918-1286-4844-bb76-e4bc2e8fe77f"
      },
      "source": [
        "data = {\"Wyatt\", \"Curry\", \"Wyatt\"}\n",
        "\n",
        "print(data)\n",
        "\n",
        "data_dictionary = {\n",
        "    'Caleb': 5,\n",
        "    \"Jimmy\":6,\n",
        "    \"Ash\": 10\n",
        "}\n",
        "print(data_dictionary.get(\"Caleb\"))"
      ],
      "execution_count": null,
      "outputs": [
        {
          "output_type": "stream",
          "text": [
            "{'Curry', 'Wyatt'}\n",
            "5\n"
          ],
          "name": "stdout"
        }
      ]
    },
    {
      "cell_type": "markdown",
      "metadata": {
        "id": "sxHCD4lkdMsq"
      },
      "source": [
        "Control Flow - Loops and Conditionals"
      ]
    },
    {
      "cell_type": "code",
      "metadata": {
        "id": "ZCeb9x_SdQzE",
        "colab": {
          "base_uri": "https://localhost:8080/"
        },
        "outputId": "6ce35a99-c3b7-4d53-a871-c31d1807e1ac"
      },
      "source": [
        "data = [\"a\", \"b\", \"c\", \"d\", \"e\"]\r\n",
        "\r\n",
        "for i in range(len(data)):\r\n",
        "  print(data[i]);\r\n",
        "  #increased here\r\n",
        "\r\n",
        "#for letter in data:\r\n",
        "  #print(letter)\r\n",
        "\r\n",
        "for i, letter in enumerate(data):\r\n",
        "  print(i, letter, end=\" \")"
      ],
      "execution_count": null,
      "outputs": [
        {
          "output_type": "stream",
          "text": [
            "a\n",
            "b\n",
            "c\n",
            "d\n",
            "e\n",
            "0 a 1 b 2 c 3 d 4 e "
          ],
          "name": "stdout"
        }
      ]
    },
    {
      "cell_type": "markdown",
      "metadata": {
        "id": "zmAGMWeqiZD2"
      },
      "source": [
        "#Guessing Game"
      ]
    },
    {
      "cell_type": "code",
      "metadata": {
        "colab": {
          "base_uri": "https://localhost:8080/"
        },
        "id": "Ox0NYKTbifws",
        "outputId": "0d98ac0b-86ef-4b1b-db10-2cb38896e6b9"
      },
      "source": [
        "#import random\r\n",
        "from random import randint\r\n",
        "#print(randint) ^\r\n",
        "#print(random.randint(0, 10))\r\n",
        "low = 0\r\n",
        "high = 100\r\n",
        "\r\n",
        "print(f\"Try and guess the random integer between {low} and {high}.\")\r\n",
        "correct = randint(low, high)\r\n",
        "#print(correct)\r\n",
        "\r\n",
        "while True:\r\n",
        "  guess = int(input())\r\n",
        "  #print(type(guess), type(correct))\r\n",
        "  if guess < correct:\r\n",
        "    print(\"Guess higher\")\r\n",
        "  elif guess > correct:\r\n",
        "    print(\"Guess lower\")\r\n",
        "  else:\r\n",
        "    print(\"Congratulations!\")\r\n",
        "    break\r\n",
        "  #do something\r\n",
        "  #check to see if we should do it again\r\n"
      ],
      "execution_count": null,
      "outputs": [
        {
          "output_type": "stream",
          "text": [
            "Try and guess the random integer between 0 and 100.\n",
            "50\n",
            "Guess lower\n",
            "25\n",
            "Guess higher\n",
            "35\n",
            "Guess lower\n",
            "30\n",
            "Congratulations!\n"
          ],
          "name": "stdout"
        }
      ]
    }
  ]
}